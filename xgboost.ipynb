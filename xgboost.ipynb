{
  "metadata": {
    "kernelspec": {
      "language": "python",
      "display_name": "Python 3",
      "name": "python3"
    },
    "language_info": {
      "name": "python",
      "version": "3.10.13",
      "mimetype": "text/x-python",
      "codemirror_mode": {
        "name": "ipython",
        "version": 3
      },
      "pygments_lexer": "ipython3",
      "nbconvert_exporter": "python",
      "file_extension": ".py"
    },
    "kaggle": {
      "accelerator": "gpu",
      "dataSources": [
        {
          "sourceId": 8669593,
          "sourceType": "datasetVersion",
          "datasetId": 5195581
        }
      ],
      "dockerImageVersionId": 30732,
      "isInternetEnabled": true,
      "language": "python",
      "sourceType": "notebook",
      "isGpuEnabled": true
    },
    "colab": {
      "name": "keras",
      "provenance": [],
      "include_colab_link": true
    }
  },
  "nbformat_minor": 0,
  "nbformat": 4,
  "cells": [
    {
      "cell_type": "markdown",
      "metadata": {
        "id": "view-in-github",
        "colab_type": "text"
      },
      "source": [
        "<a href=\"https://colab.research.google.com/github/liaoqijia/WVS7/blob/main/xgboost.ipynb\" target=\"_parent\"><img src=\"https://colab.research.google.com/assets/colab-badge.svg\" alt=\"Open In Colab\"/></a>"
      ]
    },
    {
      "source": [
        "# IMPORTANT: SOME KAGGLE DATA SOURCES ARE PRIVATE\n",
        "# RUN THIS CELL IN ORDER TO IMPORT YOUR KAGGLE DATA SOURCES.\n",
        "import kagglehub\n",
        "kagglehub.login()\n"
      ],
      "metadata": {
        "id": "RpgAQsnt9RYE"
      },
      "cell_type": "code",
      "outputs": [],
      "execution_count": null
    },
    {
      "source": [
        "# IMPORTANT: RUN THIS CELL IN ORDER TO IMPORT YOUR KAGGLE DATA SOURCES,\n",
        "# THEN FEEL FREE TO DELETE THIS CELL.\n",
        "# NOTE: THIS NOTEBOOK ENVIRONMENT DIFFERS FROM KAGGLE'S PYTHON\n",
        "# ENVIRONMENT SO THERE MAY BE MISSING LIBRARIES USED BY YOUR\n",
        "# NOTEBOOK.\n",
        "\n",
        "qijia91_wvs_imputed_path = kagglehub.dataset_download('qijia91/wvs-imputed')\n",
        "\n",
        "print('Data source import complete.')\n"
      ],
      "metadata": {
        "id": "KEQVE2LF9RYG"
      },
      "cell_type": "code",
      "outputs": [],
      "execution_count": null
    },
    {
      "cell_type": "markdown",
      "source": [
        "# XGBoost Model"
      ],
      "metadata": {
        "id": "Yr4_sfoE9RYH"
      }
    },
    {
      "cell_type": "code",
      "source": [
        "pip install pyreadr"
      ],
      "metadata": {
        "_uuid": "49f84c93-8531-47a9-8c1f-4f5ce6a804db",
        "_cell_guid": "23dd1641-58e0-433b-a87b-4927b1cbaa83",
        "jupyter": {
          "outputs_hidden": false
        },
        "trusted": true,
        "id": "FTOaniO39RYI"
      },
      "execution_count": null,
      "outputs": []
    },
    {
      "cell_type": "code",
      "source": [
        "import pyreadr\n",
        "import pandas as pd\n",
        "import numpy as np\n",
        "import matplotlib.pyplot as plt\n",
        "import seaborn as sns\n",
        "\n",
        "from sklearn.preprocessing import OneHotEncoder, StandardScaler\n",
        "from sklearn.model_selection import train_test_split, cross_val_score\n",
        "from sklearn.metrics import r2_score, mean_squared_error\n",
        "from xgboost import XGBRegressor\n",
        "import optuna"
      ],
      "metadata": {
        "_uuid": "e2d6255c-ef09-4a3d-9c21-ebc59df13b84",
        "_cell_guid": "8d55dce3-f112-4ef3-a4ba-0a03d6f8c2e3",
        "execution": {
          "iopub.status.busy": "2024-06-17T19:49:45.793498Z",
          "iopub.execute_input": "2024-06-17T19:49:45.793877Z",
          "iopub.status.idle": "2024-06-17T19:49:47.326624Z",
          "shell.execute_reply.started": "2024-06-17T19:49:45.793846Z",
          "shell.execute_reply": "2024-06-17T19:49:47.325871Z"
        },
        "trusted": true,
        "id": "_xJDUGOG9RYI"
      },
      "execution_count": null,
      "outputs": []
    },
    {
      "cell_type": "code",
      "source": [
        "import os\n",
        "for dirname, _, filenames in os.walk('/kaggle/input'):\n",
        "    for filename in filenames:\n",
        "        print(os.path.join(dirname, filename))\n",
        "\n",
        "path = '/kaggle/input/wvs-imputed/impute_test.rds'\n",
        "result = pyreadr.read_r(path)"
      ],
      "metadata": {
        "execution": {
          "iopub.status.busy": "2024-06-17T19:49:49.813083Z",
          "iopub.execute_input": "2024-06-17T19:49:49.814263Z",
          "iopub.status.idle": "2024-06-17T19:49:57.553612Z",
          "shell.execute_reply.started": "2024-06-17T19:49:49.814221Z",
          "shell.execute_reply": "2024-06-17T19:49:57.552819Z"
        },
        "trusted": true,
        "id": "gbwnbyLG9RYI"
      },
      "execution_count": null,
      "outputs": []
    },
    {
      "cell_type": "code",
      "source": [
        "df = result[None] # extract the pandas data frame\n",
        "print('data shape', df.shape)\n",
        "print('data shape', df.info())"
      ],
      "metadata": {
        "execution": {
          "iopub.status.busy": "2024-06-17T19:49:58.654479Z",
          "iopub.execute_input": "2024-06-17T19:49:58.654893Z",
          "iopub.status.idle": "2024-06-17T19:49:58.694807Z",
          "shell.execute_reply.started": "2024-06-17T19:49:58.654861Z",
          "shell.execute_reply": "2024-06-17T19:49:58.69371Z"
        },
        "trusted": true,
        "id": "hrzY1nqU9RYI"
      },
      "execution_count": null,
      "outputs": []
    },
    {
      "cell_type": "code",
      "source": [
        "train = df.iloc[:65648,:]\n",
        "test = df.iloc[65648:,:]\n",
        "\n",
        "print(f\"train shape:\", {train.shape})\n",
        "print(f\"test shape:\", {test.shape})\n",
        "\n",
        "X_train = train.drop(['activism'], axis=1)\n",
        "X_test = test.drop(['activism'], axis=1)\n",
        "\n",
        "y_train = train['activism']\n",
        "y_test = test['activism']\n",
        "\n",
        "print(f\"X_train shape:\", {X_train.shape})\n",
        "print(f\"X_test shape:\", {X_test.shape})\n",
        "print(f\"y_train shape:\", {y_train.shape})\n",
        "print(f\"y_test shape:\", {y_test.shape})"
      ],
      "metadata": {
        "execution": {
          "iopub.status.busy": "2024-06-17T19:50:07.504534Z",
          "iopub.execute_input": "2024-06-17T19:50:07.505261Z",
          "iopub.status.idle": "2024-06-17T19:50:07.552682Z",
          "shell.execute_reply.started": "2024-06-17T19:50:07.505228Z",
          "shell.execute_reply": "2024-06-17T19:50:07.551726Z"
        },
        "trusted": true,
        "id": "IIFs9i-29RYJ"
      },
      "execution_count": null,
      "outputs": []
    },
    {
      "cell_type": "code",
      "source": [
        "for col in X_train.columns:\n",
        "    print(col)"
      ],
      "metadata": {
        "execution": {
          "iopub.status.busy": "2024-06-17T19:50:10.872023Z",
          "iopub.execute_input": "2024-06-17T19:50:10.872629Z",
          "iopub.status.idle": "2024-06-17T19:50:10.878774Z",
          "shell.execute_reply.started": "2024-06-17T19:50:10.8726Z",
          "shell.execute_reply": "2024-06-17T19:50:10.877912Z"
        },
        "trusted": true,
        "id": "CF0nSJCn9RYJ"
      },
      "execution_count": null,
      "outputs": []
    },
    {
      "cell_type": "markdown",
      "source": [
        "## XGBoost Baseline model"
      ],
      "metadata": {
        "id": "2IRzM3yc9RYJ"
      }
    },
    {
      "cell_type": "code",
      "source": [
        "# Define the model\n",
        "xgb_untuned = XGBRegressor(tree_method=\"hist\", enable_categorical=True, device=\"cuda\", max_cat_to_onehot=1,verbosity = 2, n_jobs = -1)\n",
        "\n",
        "# Evaluate the model using cross-validation\n",
        "scores = cross_val_score(xgb_untuned, X_train, y_train, cv=5, scoring = \"neg_mean_squared_error\")"
      ],
      "metadata": {
        "execution": {
          "iopub.status.busy": "2024-06-17T19:50:15.692428Z",
          "iopub.execute_input": "2024-06-17T19:50:15.693089Z",
          "iopub.status.idle": "2024-06-17T19:50:24.300245Z",
          "shell.execute_reply.started": "2024-06-17T19:50:15.693057Z",
          "shell.execute_reply": "2024-06-17T19:50:24.29908Z"
        },
        "trusted": true,
        "id": "2w6UI_ht9RYJ"
      },
      "execution_count": null,
      "outputs": []
    },
    {
      "cell_type": "code",
      "source": [
        "# Fit the model\n",
        "xgb_untuned.fit(X_train, y_train)"
      ],
      "metadata": {
        "execution": {
          "iopub.status.busy": "2024-06-17T19:50:24.301769Z",
          "iopub.execute_input": "2024-06-17T19:50:24.302062Z",
          "iopub.status.idle": "2024-06-17T19:50:25.903715Z",
          "shell.execute_reply.started": "2024-06-17T19:50:24.302036Z",
          "shell.execute_reply": "2024-06-17T19:50:25.902865Z"
        },
        "trusted": true,
        "id": "ThMCL4-j9RYJ"
      },
      "execution_count": null,
      "outputs": []
    },
    {
      "cell_type": "code",
      "source": [
        "# Make predictions\n",
        "y_pred = xgb_untuned.predict(X_test)\n",
        "\n",
        "MSE_test = mean_squared_error(y_test, y_pred)\n",
        "RMSE_test = mean_squared_error(y_test, y_pred)**0.5\n",
        "R2_test = r2_score(y_test, y_pred)\n",
        "# Evaluate the model\n",
        "print('MSE: ', np.round(MSE_test, 4))\n",
        "print('RMSE: ', np.round(RMSE_test, 4))\n",
        "print('R2: ', np.round(R2_test, 4))\n"
      ],
      "metadata": {
        "execution": {
          "iopub.status.busy": "2024-06-17T19:50:37.581767Z",
          "iopub.execute_input": "2024-06-17T19:50:37.582123Z",
          "iopub.status.idle": "2024-06-17T19:50:37.719601Z",
          "shell.execute_reply.started": "2024-06-17T19:50:37.582096Z",
          "shell.execute_reply": "2024-06-17T19:50:37.718695Z"
        },
        "trusted": true,
        "id": "NkQgPEiw9RYJ"
      },
      "execution_count": null,
      "outputs": []
    },
    {
      "cell_type": "code",
      "source": [
        "df_xgb_untuned = pd.DataFrame({'Actual': y_test, 'Predicted': y_pred})\n",
        "correlation_matrix = df_xgb_untuned.corr()\n",
        "print(correlation_matrix)"
      ],
      "metadata": {
        "execution": {
          "iopub.status.busy": "2024-06-17T19:50:40.105455Z",
          "iopub.execute_input": "2024-06-17T19:50:40.105893Z",
          "iopub.status.idle": "2024-06-17T19:50:40.120595Z",
          "shell.execute_reply.started": "2024-06-17T19:50:40.105865Z",
          "shell.execute_reply": "2024-06-17T19:50:40.119579Z"
        },
        "trusted": true,
        "id": "hVy-cuyq9RYK"
      },
      "execution_count": null,
      "outputs": []
    },
    {
      "cell_type": "markdown",
      "source": [
        "## XGBoost Tuning with 50 trials"
      ],
      "metadata": {
        "id": "Xv_SiWdJ9RYK"
      }
    },
    {
      "cell_type": "code",
      "source": [
        "# Use Optuna to tune the XGBRegressor model\n",
        "\n",
        "def objective(trial):\n",
        "    param = {\n",
        "        'max_depth': trial.suggest_int('max_depth', 1, 20),\n",
        "        'learning_rate': trial.suggest_float('learning_rate', 0.001, 0.5),\n",
        "        'n_estimators': trial.suggest_int('n_estimators', 50, 1000),\n",
        "        'min_child_weight': trial.suggest_int('min_child_weight', 1, 10),\n",
        "        'gamma': trial.suggest_float('gamma', 0.01, 1.0),\n",
        "        'subsample': trial.suggest_float('subsample', 0.01, 1.0),\n",
        "        'colsample_bytree': trial.suggest_float('colsample_bytree', 0.01, 1.0),\n",
        "        'reg_alpha': trial.suggest_float('reg_alpha', 0.01, 1.0),\n",
        "        'reg_lambda': trial.suggest_float('reg_lambda', 0.01, 1.0)\n",
        "    }\n",
        "    xgb_tuned = XGBRegressor(**param, tree_method=\"hist\", enable_categorical=True, max_cat_to_onehot=1, device=\"cuda\", verbosity = 2,  random_state=10, n_jobs = -1)\n",
        "    scores = cross_val_score(xgb_tuned, X_train, y_train, cv=5, scoring = \"neg_mean_squared_error\")\n",
        "    xgb_tuned.set_params(early_stopping_rounds=10)\n",
        "\n",
        "\n",
        "    xgb_tuned.fit(X_train, y_train, eval_set=[(X_test, y_test)], verbose=False)\n",
        "    y_pred = xgb_tuned.predict(X_test)\n",
        "    MSE = (mean_squared_error(y_test, y_pred))\n",
        "\n",
        "    return np.round(MSE, 3)"
      ],
      "metadata": {
        "execution": {
          "iopub.status.busy": "2024-06-17T20:23:54.53413Z",
          "iopub.execute_input": "2024-06-17T20:23:54.534784Z",
          "iopub.status.idle": "2024-06-17T20:23:54.543568Z",
          "shell.execute_reply.started": "2024-06-17T20:23:54.53475Z",
          "shell.execute_reply": "2024-06-17T20:23:54.542792Z"
        },
        "trusted": true,
        "id": "eH4P0Mjg9RYL"
      },
      "execution_count": null,
      "outputs": []
    },
    {
      "cell_type": "code",
      "source": [
        "# Create the study\n",
        "sampler = optuna.samplers.RandomSampler(seed = 42)\n",
        "study = optuna.create_study(direction='minimize', study_name='xgboost_regression', sampler=sampler)\n",
        "study.optimize(objective, n_trials=50,show_progress_bar=True)"
      ],
      "metadata": {
        "execution": {
          "iopub.status.busy": "2024-06-17T20:23:57.058846Z",
          "iopub.execute_input": "2024-06-17T20:23:57.059338Z",
          "iopub.status.idle": "2024-06-17T20:48:00.289558Z",
          "shell.execute_reply.started": "2024-06-17T20:23:57.059295Z",
          "shell.execute_reply": "2024-06-17T20:48:00.288671Z"
        },
        "trusted": true,
        "id": "VCR-WbSD9RYL"
      },
      "execution_count": null,
      "outputs": []
    },
    {
      "cell_type": "code",
      "source": [
        "# Print the best parameters\n",
        "print('Best parameters', study.best_params)\n",
        "print('Best value', study.best_value)\n",
        "print('Best trial', study.best_trial)"
      ],
      "metadata": {
        "execution": {
          "iopub.status.busy": "2024-06-17T20:49:07.004577Z",
          "iopub.execute_input": "2024-06-17T20:49:07.005249Z",
          "iopub.status.idle": "2024-06-17T20:49:07.011147Z",
          "shell.execute_reply.started": "2024-06-17T20:49:07.005214Z",
          "shell.execute_reply": "2024-06-17T20:49:07.01023Z"
        },
        "trusted": true,
        "id": "uU8ypImz9RYL"
      },
      "execution_count": null,
      "outputs": []
    },
    {
      "cell_type": "code",
      "source": [
        "# Best parameters {'max_depth': 7, 'learning_rate': 0.05762328709905395, 'n_estimators': 929, 'min_child_weight': 9, 'gamma': 0.26536221143800404, 'subsample': 0.6633842055738373, 'colsample_bytree': 0.8190499781992037, 'reg_alpha': 0.5596488034834677, 'reg_lambda': 0.5343540725724464}\n",
        "study_best_params = {'max_depth': 7, 'learning_rate': 0.05762328709905395, 'n_estimators': 929, 'min_child_weight': 9, 'gamma': 0.26536221143800404, 'subsample': 0.6633842055738373, 'colsample_bytree': 0.8190499781992037, 'reg_alpha': 0.5596488034834677, 'reg_lambda': 0.5343540725724464}\n"
      ],
      "metadata": {
        "execution": {
          "iopub.status.busy": "2024-06-17T20:49:25.148204Z",
          "iopub.execute_input": "2024-06-17T20:49:25.148574Z",
          "iopub.status.idle": "2024-06-17T20:49:25.153936Z",
          "shell.execute_reply.started": "2024-06-17T20:49:25.148545Z",
          "shell.execute_reply": "2024-06-17T20:49:25.152904Z"
        },
        "trusted": true,
        "id": "W4y4donH9RYL"
      },
      "execution_count": null,
      "outputs": []
    },
    {
      "cell_type": "code",
      "source": [
        "# Use the optimal hyperparameters to train the model\n",
        "\n",
        "xgb_tuned_final = XGBRegressor(**study_best_params, tree_method=\"hist\", enable_categorical=True, max_cat_to_onehot=1, device=\"cuda\", verbosity = 2)\n",
        "xgb_tuned_final.fit(X_train, y_train)\n",
        "y_pred = xgb_tuned_final.predict(X_test)\n",
        "\n",
        "print('MSE: ', mean_squared_error(y_test, y_pred))\n",
        "print('RMSE: ', np.sqrt(mean_squared_error(y_test, y_pred)))\n",
        "print('R2: ', r2_score(y_test, y_pred))"
      ],
      "metadata": {
        "execution": {
          "iopub.status.busy": "2024-06-17T20:49:28.49772Z",
          "iopub.execute_input": "2024-06-17T20:49:28.498103Z",
          "iopub.status.idle": "2024-06-17T20:49:36.439878Z",
          "shell.execute_reply.started": "2024-06-17T20:49:28.498075Z",
          "shell.execute_reply": "2024-06-17T20:49:36.438931Z"
        },
        "trusted": true,
        "id": "hu-usO599RYL"
      },
      "execution_count": null,
      "outputs": []
    },
    {
      "cell_type": "code",
      "source": [
        "df_xgb_tuned = pd.DataFrame({'Actual': y_test, 'Predicted': y_pred})\n",
        "correlation_matrix = df_xgb_tuned.corr()\n",
        "print(correlation_matrix)"
      ],
      "metadata": {
        "execution": {
          "iopub.status.busy": "2024-06-17T20:49:50.79264Z",
          "iopub.execute_input": "2024-06-17T20:49:50.793023Z",
          "iopub.status.idle": "2024-06-17T20:49:50.801484Z",
          "shell.execute_reply.started": "2024-06-17T20:49:50.792995Z",
          "shell.execute_reply": "2024-06-17T20:49:50.800506Z"
        },
        "trusted": true,
        "id": "SGQ13XzD9RYL"
      },
      "execution_count": null,
      "outputs": []
    },
    {
      "cell_type": "code",
      "source": [
        "# Plot the first set of parameters\n",
        "fig1 = optuna.visualization.matplotlib.plot_slice(study, params=[\"n_estimators\", \"max_depth\", \"learning_rate\", \"min_child_weight\"])\n",
        "plt.show()\n",
        "\n",
        "# Plot the second set of parameters\n",
        "fig2 = optuna.visualization.matplotlib.plot_slice(study, params=[\"gamma\", \"subsample\", \"colsample_bytree\", \"reg_alpha\"])\n",
        "plt.show()\n"
      ],
      "metadata": {
        "execution": {
          "iopub.status.busy": "2024-06-17T20:49:53.694722Z",
          "iopub.execute_input": "2024-06-17T20:49:53.695436Z",
          "iopub.status.idle": "2024-06-17T20:49:55.568043Z",
          "shell.execute_reply.started": "2024-06-17T20:49:53.695406Z",
          "shell.execute_reply": "2024-06-17T20:49:55.567157Z"
        },
        "trusted": true,
        "id": "28MBIcXY9RYM"
      },
      "execution_count": null,
      "outputs": []
    },
    {
      "cell_type": "code",
      "source": [
        "import matplotlib.pyplot as plt\n",
        "optuna.visualization.plot_optimization_history(study)\n",
        "optuna.visualization.plot_parallel_coordinate(study, params=[\"n_estimators\", \"max_depth\", \"learning_rate\", \"min_child_weight\", \"gamma\", \"subsample\", \"colsample_bytree\", \"reg_alpha\", \"reg_lambda\" ])\n",
        "optuna.visualization.plot_param_importances(study)"
      ],
      "metadata": {
        "execution": {
          "iopub.status.busy": "2024-06-17T20:50:04.403401Z",
          "iopub.execute_input": "2024-06-17T20:50:04.403779Z",
          "iopub.status.idle": "2024-06-17T20:50:05.270687Z",
          "shell.execute_reply.started": "2024-06-17T20:50:04.40375Z",
          "shell.execute_reply": "2024-06-17T20:50:05.269808Z"
        },
        "trusted": true,
        "id": "HvNBkn0m9RYM"
      },
      "execution_count": null,
      "outputs": []
    },
    {
      "cell_type": "markdown",
      "source": [
        "# Regression models"
      ],
      "metadata": {
        "id": "E0B6DWp-9RYM"
      }
    },
    {
      "cell_type": "code",
      "source": [
        "from sklearn.compose import ColumnTransformer\n",
        "from sklearn.pipeline import Pipeline\n",
        "from sklearn.preprocessing import OneHotEncoder, StandardScaler\n",
        "from sklearn.linear_model import Lasso, Ridge, ElasticNet\n",
        "\n",
        "# determine categorical and numerical features\n",
        "numerical_features_train = X_train.select_dtypes(include=['float64']).columns\n",
        "categorical_features_train = X_train.select_dtypes(include=['category']).columns\n",
        "\n",
        "# Define the preprocessor\n",
        "preprocessor = ColumnTransformer(\n",
        "    transformers=[\n",
        "        ('num', StandardScaler(), numerical_features_train),\n",
        "        ('cat', OneHotEncoder(handle_unknown='ignore'), categorical_features_train)\n",
        "    ]\n",
        ")\n"
      ],
      "metadata": {
        "execution": {
          "iopub.status.busy": "2024-06-17T19:56:50.780427Z",
          "iopub.execute_input": "2024-06-17T19:56:50.781153Z",
          "iopub.status.idle": "2024-06-17T19:56:50.905883Z",
          "shell.execute_reply.started": "2024-06-17T19:56:50.781117Z",
          "shell.execute_reply": "2024-06-17T19:56:50.904921Z"
        },
        "trusted": true,
        "id": "A-upMWp-9RYM"
      },
      "execution_count": null,
      "outputs": []
    },
    {
      "cell_type": "markdown",
      "source": [
        "## baseline ridge model"
      ],
      "metadata": {
        "id": "3jon0MOv9RYM"
      }
    },
    {
      "cell_type": "code",
      "source": [
        "# define the Ridge model\n",
        "model_Ridge = Ridge(random_state = 2)\n",
        "pipeline_Ridge = Pipeline(steps=[('prep',preprocessor), ('m', model_Ridge)])\n",
        "scores = cross_val_score(pipeline_Ridge, X_train, y_train, scoring='neg_mean_squared_error', cv=5, n_jobs = -1)\n",
        "\n",
        "RMSE_ridge = (-scores)**0.5\n",
        "print(\"RMSE_ridge\", RMSE_ridge)\n",
        "print(\"Mean RMSE_ridge\", RMSE_ridge.mean())"
      ],
      "metadata": {
        "execution": {
          "iopub.status.busy": "2024-06-17T19:56:53.134433Z",
          "iopub.execute_input": "2024-06-17T19:56:53.135156Z",
          "iopub.status.idle": "2024-06-17T19:57:00.516938Z",
          "shell.execute_reply.started": "2024-06-17T19:56:53.135124Z",
          "shell.execute_reply": "2024-06-17T19:57:00.515828Z"
        },
        "trusted": true,
        "id": "IqWQ0lF69RYM"
      },
      "execution_count": null,
      "outputs": []
    },
    {
      "cell_type": "markdown",
      "source": [
        "## Ridge Regression with Tuning"
      ],
      "metadata": {
        "id": "LwkkebLS9RYM"
      }
    },
    {
      "cell_type": "code",
      "source": [
        "# Define the model (Ridge)\n",
        "\n",
        "def objective(trial):\n",
        "    alpha = trial.suggest_float('alpha', 1e-4, 10.0, log=True)  # Ridge regression alpha parameter\n",
        "    model_Ridge = Ridge(alpha=alpha, random_state = 2)\n",
        "    pipeline_Ridge = Pipeline(steps=[('prep', preprocessor), ('m', model_Ridge)])\n",
        "    scores = cross_val_score(pipeline_Ridge, X_train, y_train, scoring='neg_mean_squared_error', cv=5, n_jobs= -1)\n",
        "    rmse_ridge = (-scores)**0.5\n",
        "    return rmse_ridge.mean()\n",
        "\n",
        "# Perform hyperparameter optimization with Optuna\n",
        "sampler = optuna.samplers.RandomSampler(seed = 42)\n",
        "study_Ridge = optuna.create_study(direction='minimize', study_name='ridge_regression', sampler=sampler)\n",
        "study_Ridge.optimize(objective, n_trials=50, show_progress_bar= True)"
      ],
      "metadata": {
        "execution": {
          "iopub.status.busy": "2024-06-17T20:18:17.470821Z",
          "iopub.execute_input": "2024-06-17T20:18:17.47116Z",
          "iopub.status.idle": "2024-06-17T20:22:15.971064Z",
          "shell.execute_reply.started": "2024-06-17T20:18:17.471135Z",
          "shell.execute_reply": "2024-06-17T20:22:15.969969Z"
        },
        "trusted": true,
        "id": "AfT1I06B9RYM"
      },
      "execution_count": null,
      "outputs": []
    },
    {
      "cell_type": "code",
      "source": [
        "# Get the best hyperparameters and best score\n",
        "best_alpha_Ridge = study_Ridge.best_params\n",
        "best_score_Ridge = study_Ridge.best_value\n",
        "\n",
        "print(\"Best alpha:\", best_alpha_Ridge)\n",
        "print(\"Best score:\", best_score_Ridge)"
      ],
      "metadata": {
        "execution": {
          "iopub.status.busy": "2024-06-17T20:22:37.013429Z",
          "iopub.execute_input": "2024-06-17T20:22:37.013848Z",
          "iopub.status.idle": "2024-06-17T20:22:37.019685Z",
          "shell.execute_reply.started": "2024-06-17T20:22:37.013812Z",
          "shell.execute_reply": "2024-06-17T20:22:37.018761Z"
        },
        "trusted": true,
        "id": "WBapX_mS9RYM"
      },
      "execution_count": null,
      "outputs": []
    },
    {
      "cell_type": "markdown",
      "source": [
        "## last fit the best model of ridge regression"
      ],
      "metadata": {
        "id": "cuJbHxgp9RYM"
      }
    },
    {
      "cell_type": "code",
      "source": [
        "Best_alpha = {'alpha': 7.072114131472227}\n",
        "\n",
        "# Create a pipeline with preprocessing and model\n",
        "pipeline_Ridge = Pipeline(steps=[('prep', preprocessor), ('m', Ridge(**Best_alpha, random_state=2))])\n",
        "\n",
        "# Fit the pipeline on training data\n",
        "pipeline_Ridge.fit(X_train, y_train)\n",
        "\n",
        "# Make predictions on testing data\n",
        "y_pred = pipeline_Ridge.predict(X_test)\n",
        "\n",
        "# Evaluate the predictions\n",
        "mse = mean_squared_error(y_test, y_pred)\n",
        "rmse = np.sqrt(mse)\n",
        "r2 = r2_score(y_test, y_pred)\n",
        "\n",
        "print('Ridge_MSE Test: ', mse)\n",
        "print('Ridge_RMSE Test: ', rmse)\n",
        "print('Ridge_R2 Test: ', r2)"
      ],
      "metadata": {
        "execution": {
          "iopub.status.busy": "2024-06-17T19:57:04.841942Z",
          "iopub.execute_input": "2024-06-17T19:57:04.84284Z",
          "iopub.status.idle": "2024-06-17T19:57:07.108018Z",
          "shell.execute_reply.started": "2024-06-17T19:57:04.842804Z",
          "shell.execute_reply": "2024-06-17T19:57:07.1068Z"
        },
        "trusted": true,
        "id": "BKSoJwXA9RYM"
      },
      "execution_count": null,
      "outputs": []
    },
    {
      "cell_type": "code",
      "source": [
        "df_Ridge = pd.DataFrame({'Actual': y_test, 'Predicted': y_pred})\n",
        "correlation_matrix = df_Ridge.corr()\n",
        "print(correlation_matrix)"
      ],
      "metadata": {
        "execution": {
          "iopub.status.busy": "2024-06-17T19:57:09.863531Z",
          "iopub.execute_input": "2024-06-17T19:57:09.864259Z",
          "iopub.status.idle": "2024-06-17T19:57:09.873197Z",
          "shell.execute_reply.started": "2024-06-17T19:57:09.864227Z",
          "shell.execute_reply": "2024-06-17T19:57:09.872212Z"
        },
        "trusted": true,
        "id": "3cO889db9RYM"
      },
      "execution_count": null,
      "outputs": []
    },
    {
      "cell_type": "markdown",
      "source": [
        "## run baseline lasso model"
      ],
      "metadata": {
        "id": "vEJVp-T79RYM"
      }
    },
    {
      "cell_type": "code",
      "source": [
        "%%time\n",
        "# define the lasso model\n",
        "model_lasso = Lasso(random_state = 2)\n",
        "# define the data preparation and modeling pipeline\n",
        "pipeline_lasso = Pipeline(steps=[('prep',preprocessor), ('m', model_lasso)])\n",
        "\n",
        "scores = cross_val_score(pipeline_lasso, X_train, y_train, scoring='neg_mean_squared_error', cv=5, n_jobs=-1)\n",
        "\n",
        "\n",
        "RMSE_lasso = (-scores)**0.5\n",
        "print(\"RMSE_lasso\", RMSE_lasso)\n",
        "print(\"Mean RMSE_lasso\", RMSE_lasso.mean())"
      ],
      "metadata": {
        "execution": {
          "iopub.status.busy": "2024-06-17T19:57:12.184866Z",
          "iopub.execute_input": "2024-06-17T19:57:12.185509Z",
          "iopub.status.idle": "2024-06-17T19:57:16.829711Z",
          "shell.execute_reply.started": "2024-06-17T19:57:12.185477Z",
          "shell.execute_reply": "2024-06-17T19:57:16.828766Z"
        },
        "trusted": true,
        "id": "0NY38ejI9RYM"
      },
      "execution_count": null,
      "outputs": []
    },
    {
      "cell_type": "markdown",
      "source": [
        "# Lasso Regression with Tuning"
      ],
      "metadata": {
        "id": "6nRnJtdg9RYM"
      }
    },
    {
      "cell_type": "code",
      "source": [
        "def objective(trial):\n",
        "    # Define the hyperparameters to tune\n",
        "    alpha = trial.suggest_float('alpha', 1e-5, 10.0, log=True)  # Larger range for alpha\n",
        "\n",
        "    # Create the model\n",
        "    model_lasso = Lasso(alpha=alpha,random_state=2)\n",
        "    pipeline_lasso = Pipeline(steps=[('prep', preprocessor), ('m', model_lasso)])\n",
        "    scores = cross_val_score(pipeline_lasso, X_train, y_train, scoring='neg_mean_squared_error', cv=5, n_jobs = -1)\n",
        "    rmse_lasso = (-scores)**0.5\n",
        "    return rmse_lasso.mean()"
      ],
      "metadata": {
        "execution": {
          "iopub.status.busy": "2024-06-12T22:50:12.107709Z",
          "iopub.execute_input": "2024-06-12T22:50:12.108119Z",
          "iopub.status.idle": "2024-06-12T22:50:12.11432Z",
          "shell.execute_reply.started": "2024-06-12T22:50:12.108089Z",
          "shell.execute_reply": "2024-06-12T22:50:12.113323Z"
        },
        "trusted": true,
        "id": "MhcQNp0W9RYM"
      },
      "execution_count": null,
      "outputs": []
    },
    {
      "cell_type": "code",
      "source": [
        "# Perform hyperparameter optimization with Optuna\n",
        "sampler = optuna.samplers.RandomSampler(seed = 42)\n",
        "study_lasso = optuna.create_study(direction='minimize', study_name='lasso_regression', sampler=sampler)\n",
        "study_lasso.optimize(objective, n_trials=50, show_progress_bar=True)\n",
        "\n",
        "# Get the best hyperparameters and best score\n",
        "best_params_lasso = study_lasso.best_params\n",
        "best_value_lasso = study_lasso.best_value\n",
        "\n",
        "print(\"Lasso Best alpha:\", best_params_lasso)\n",
        "print(\"Lasso Best score:\", best_value_lasso)"
      ],
      "metadata": {
        "execution": {
          "iopub.status.busy": "2024-06-12T22:50:19.408052Z",
          "iopub.execute_input": "2024-06-12T22:50:19.408739Z",
          "iopub.status.idle": "2024-06-12T22:59:40.10336Z",
          "shell.execute_reply.started": "2024-06-12T22:50:19.408695Z",
          "shell.execute_reply": "2024-06-12T22:59:40.102516Z"
        },
        "trusted": true,
        "id": "PfSIMCvY9RYN"
      },
      "execution_count": null,
      "outputs": []
    },
    {
      "cell_type": "code",
      "source": [
        "best_params_lasso"
      ],
      "metadata": {
        "execution": {
          "iopub.status.busy": "2024-06-17T20:23:11.420819Z",
          "iopub.execute_input": "2024-06-17T20:23:11.421443Z",
          "iopub.status.idle": "2024-06-17T20:23:11.427101Z",
          "shell.execute_reply.started": "2024-06-17T20:23:11.421411Z",
          "shell.execute_reply": "2024-06-17T20:23:11.426212Z"
        },
        "trusted": true,
        "id": "wGacbTqo9RYN"
      },
      "execution_count": null,
      "outputs": []
    },
    {
      "cell_type": "code",
      "source": [
        "best_params_lasso = {'alpha': 0.00015777663630582464}"
      ],
      "metadata": {
        "execution": {
          "iopub.status.busy": "2024-06-17T20:23:18.745689Z",
          "iopub.execute_input": "2024-06-17T20:23:18.74604Z",
          "iopub.status.idle": "2024-06-17T20:23:18.750404Z",
          "shell.execute_reply.started": "2024-06-17T20:23:18.746013Z",
          "shell.execute_reply": "2024-06-17T20:23:18.74949Z"
        },
        "trusted": true,
        "id": "4c-QGOKi9RYQ"
      },
      "execution_count": null,
      "outputs": []
    },
    {
      "cell_type": "code",
      "source": [
        "# Create a pipeline with preprocessing and model\n",
        "pipeline_lasso = Pipeline(steps=[('prep', preprocessor), ('m', Lasso(**best_params_lasso, random_state=2))])\n",
        "\n",
        "# Fit the pipeline on training data\n",
        "pipeline_lasso.fit(X_train, y_train)\n",
        "\n",
        "# Make predictions on testing data\n",
        "y_pred = pipeline_lasso.predict(X_test)\n",
        "\n",
        "# Evaluate the predictions\n",
        "mse = mean_squared_error(y_test, y_pred)\n",
        "rmse = np.sqrt(mse)\n",
        "r2 = r2_score(y_test, y_pred)\n",
        "\n",
        "print('Lasso MSE Test: ', mse)\n",
        "print('Lasso RMSE Test: ', rmse)\n",
        "print('Lasso R2 Test: ', r2)"
      ],
      "metadata": {
        "execution": {
          "iopub.status.busy": "2024-06-17T19:57:18.766141Z",
          "iopub.execute_input": "2024-06-17T19:57:18.766794Z",
          "iopub.status.idle": "2024-06-17T19:57:23.557416Z",
          "shell.execute_reply.started": "2024-06-17T19:57:18.766761Z",
          "shell.execute_reply": "2024-06-17T19:57:23.55606Z"
        },
        "trusted": true,
        "id": "azEeXyFX9RYQ"
      },
      "execution_count": null,
      "outputs": []
    },
    {
      "cell_type": "code",
      "source": [
        "df_lasso = pd.DataFrame({'Actual': y_test, 'Predicted': y_pred})\n",
        "correlation_matrix = df_lasso.corr()\n",
        "print(correlation_matrix)\n"
      ],
      "metadata": {
        "execution": {
          "iopub.status.busy": "2024-06-17T19:57:23.559977Z",
          "iopub.execute_input": "2024-06-17T19:57:23.56079Z",
          "iopub.status.idle": "2024-06-17T19:57:23.574561Z",
          "shell.execute_reply.started": "2024-06-17T19:57:23.560725Z",
          "shell.execute_reply": "2024-06-17T19:57:23.573211Z"
        },
        "trusted": true,
        "id": "9kPOGa0m9RYQ"
      },
      "execution_count": null,
      "outputs": []
    },
    {
      "cell_type": "markdown",
      "source": [
        "# plot the performance of modesl on unseen data"
      ],
      "metadata": {
        "id": "_LZhi9R79RYQ"
      }
    },
    {
      "cell_type": "code",
      "source": [
        "import seaborn as sns\n",
        "from matplotlib import pyplot as plt\n",
        "\n",
        "sns.set_style(\"whitegrid\")\n",
        "\n",
        "f, axes = plt.subplots(2, 2, figsize = (12,10))\n",
        "\n",
        "\n",
        "sns.regplot(data=df_xgb_untuned, x='Actual', y='Predicted', scatter_kws={'s': 5}, ax=axes[0,0])\n",
        "axes[0,0].set_title(\"XGB Regression (defult)\")\n",
        "axes[0,0].text(0.1, 2, 'R = 0.732', fontsize=10, color='red')\n",
        "axes[0,0].text(0.1, 1.9, 'RMSE = 0.359', fontsize=10, color='red')\n",
        "axes[0,0].text(0.1, 1.8, 'R2 = 0.534', fontsize=10, color='red')\n",
        "\n",
        "\n",
        "sns.regplot(data=df_xgb_tuned, x='Actual', y='Predicted', scatter_kws={'s': 5}, ax=axes[0,1])\n",
        "axes[0,1].set_title(\"Fine Tuned XGB Regression\")\n",
        "axes[0,1].text(0.1, 2, 'R = 0.755', fontsize=10, color='red')\n",
        "axes[0,1].text(0.1, 1.9, 'RMSE = 0.344', fontsize=10, color='red')\n",
        "axes[0,1].text(0.1, 1.8, 'R2 = 0.571', fontsize=10, color='red')\n",
        "\n",
        "sns.regplot(data=df_Ridge, x='Actual', y='Predicted', scatter_kws={'s': 5}, ax=axes[1,0])\n",
        "axes[1,0].set_title(\"Fine Tuned Ridge Regression\")\n",
        "axes[1,0].text(0.1, 2, 'R = 0.684', fontsize=10, color='red')\n",
        "axes[1,0].text(0.1, 1.9, 'RMSE = 0.383', fontsize=10, color='red')\n",
        "axes[1,0].text(0.1, 1.8, 'R2 = 0.468', fontsize=10, color='red')\n",
        "\n",
        "sns.regplot(data=df_lasso, x='Actual', y='Predicted', scatter_kws={'s': 5}, ax=axes[1,1])\n",
        "axes[1,1].set_title(\"Fine Tuned Lasso Regression\")\n",
        "axes[1,1].text(0.1, 2, 'R = 0.684', fontsize=10, color='red')\n",
        "axes[1,1].text(0.1, 1.9, 'RMSE = 0.383', fontsize=10, color='red')\n",
        "axes[1,1].text(0.1, 1.8, 'R2 = 0.468', fontsize=10, color='red')"
      ],
      "metadata": {
        "execution": {
          "iopub.status.busy": "2024-06-17T19:57:26.624336Z",
          "iopub.execute_input": "2024-06-17T19:57:26.624776Z",
          "iopub.status.idle": "2024-06-17T19:57:31.828033Z",
          "shell.execute_reply.started": "2024-06-17T19:57:26.624728Z",
          "shell.execute_reply": "2024-06-17T19:57:31.827106Z"
        },
        "trusted": true,
        "id": "WMy80hbo9RYQ"
      },
      "execution_count": null,
      "outputs": []
    },
    {
      "cell_type": "markdown",
      "source": [
        "# model interpretation"
      ],
      "metadata": {
        "id": "USeJmL8k9RYQ"
      }
    },
    {
      "cell_type": "code",
      "source": [
        "pip install dalex"
      ],
      "metadata": {
        "execution": {
          "iopub.status.busy": "2024-06-17T19:57:36.451295Z",
          "iopub.execute_input": "2024-06-17T19:57:36.451667Z",
          "iopub.status.idle": "2024-06-17T19:57:48.638424Z",
          "shell.execute_reply.started": "2024-06-17T19:57:36.451637Z",
          "shell.execute_reply": "2024-06-17T19:57:48.637246Z"
        },
        "trusted": true,
        "id": "Yn8xFr1V9RYQ"
      },
      "execution_count": null,
      "outputs": []
    },
    {
      "cell_type": "markdown",
      "source": [
        "## create the explainer"
      ],
      "metadata": {
        "id": "e2uiZkKL9RYR"
      }
    },
    {
      "cell_type": "code",
      "source": [
        "import dalex as dx\n",
        "\n",
        "xgb_untuned_explainer = dx.Explainer(xgb_untuned, X_test, y_test, label=\"xgb untuned\")\n",
        "xgb_tuned_explainer = dx.Explainer(xgb_tuned_final, X_test, y_test, label=\"xgb fine tuned\")\n",
        "\n",
        "Ridge_tuned_explainer = dx.Explainer(pipeline_Ridge, X_test, y_test, label=\"ridge fine tuned\")\n",
        "Lasso_tuned_explainer = dx.Explainer(pipeline_lasso, X_test, y_test, label=\"lasso fine tuned\")\n",
        "\n",
        "xgb_untuned_perform = xgb_untuned_explainer.model_performance().result\n",
        "xgb_tuned_perform = xgb_tuned_explainer.model_performance().result\n",
        "Ridge_tuned_perform = Ridge_tuned_explainer.model_performance().result\n",
        "Lasso_tuned_perform = Lasso_tuned_explainer.model_performance().result\n"
      ],
      "metadata": {
        "execution": {
          "iopub.status.busy": "2024-06-17T19:57:48.640449Z",
          "iopub.execute_input": "2024-06-17T19:57:48.640801Z",
          "iopub.status.idle": "2024-06-17T19:57:55.377161Z",
          "shell.execute_reply.started": "2024-06-17T19:57:48.640766Z",
          "shell.execute_reply": "2024-06-17T19:57:55.37565Z"
        },
        "trusted": true,
        "id": "XjGERPCc9RYR"
      },
      "execution_count": null,
      "outputs": []
    },
    {
      "cell_type": "markdown",
      "source": [
        "## model performance evaluation: residuals"
      ],
      "metadata": {
        "id": "MJlIKwm59RYR"
      }
    },
    {
      "cell_type": "code",
      "source": [
        "exp_list = [xgb_untuned_explainer, xgb_tuned_explainer, Ridge_tuned_explainer, Lasso_tuned_explainer]\n",
        "exp_list[0].model_performance().plot([exp.model_performance() for exp in exp_list[1:]])\n"
      ],
      "metadata": {
        "execution": {
          "iopub.status.busy": "2024-06-17T19:57:58.89126Z",
          "iopub.execute_input": "2024-06-17T19:57:58.892242Z",
          "iopub.status.idle": "2024-06-17T19:57:59.250343Z",
          "shell.execute_reply.started": "2024-06-17T19:57:58.89221Z",
          "shell.execute_reply": "2024-06-17T19:57:59.24943Z"
        },
        "trusted": true,
        "id": "jkT1eYkx9RYR"
      },
      "execution_count": null,
      "outputs": []
    },
    {
      "cell_type": "markdown",
      "source": [
        "## model surogate: decision tree approximation"
      ],
      "metadata": {
        "id": "fmwiD3kx9RYR"
      }
    },
    {
      "cell_type": "code",
      "source": [
        "xgb_tuned_explainer.model_surrogate().plot()"
      ],
      "metadata": {
        "execution": {
          "iopub.status.busy": "2024-06-17T19:58:09.040301Z",
          "iopub.execute_input": "2024-06-17T19:58:09.040967Z",
          "iopub.status.idle": "2024-06-17T19:58:10.076595Z",
          "shell.execute_reply.started": "2024-06-17T19:58:09.040932Z",
          "shell.execute_reply": "2024-06-17T19:58:10.075756Z"
        },
        "trusted": true,
        "id": "Y1dENkbu9RYR"
      },
      "execution_count": null,
      "outputs": []
    },
    {
      "cell_type": "markdown",
      "source": [
        "## Partial Dependence Plot of Cultural Dimensions"
      ],
      "metadata": {
        "id": "rcXw0FtP9RYR"
      }
    },
    {
      "cell_type": "code",
      "source": [
        "exp_list[0].model_parts(loss_function='rmse', random_state =0).plot([exp.model_parts(loss_function='rmse',random_state =0) for exp in exp_list[1:]])"
      ],
      "metadata": {
        "execution": {
          "iopub.status.busy": "2024-06-17T20:02:24.72435Z",
          "iopub.execute_input": "2024-06-17T20:02:24.724972Z",
          "iopub.status.idle": "2024-06-17T20:15:03.623158Z",
          "shell.execute_reply.started": "2024-06-17T20:02:24.724938Z",
          "shell.execute_reply": "2024-06-17T20:15:03.622241Z"
        },
        "trusted": true,
        "id": "uHtt-uuk9RYR"
      },
      "execution_count": null,
      "outputs": []
    },
    {
      "cell_type": "code",
      "source": [
        "exp_list[0].model_profile(variable_splits_type=\"quantiles\").plot(\n",
        "    [exp.model_profile(variable_splits_type=\"quantiles\") for exp in exp_list[1:]],\n",
        "    variables =['IND', 'LTO', 'PD', 'MASC', 'UA'],\n",
        "    title=\"Partial Dependence\"\n",
        ")"
      ],
      "metadata": {
        "execution": {
          "iopub.status.busy": "2024-06-17T19:58:14.745438Z",
          "iopub.execute_input": "2024-06-17T19:58:14.746333Z",
          "iopub.status.idle": "2024-06-17T20:02:02.336422Z",
          "shell.execute_reply.started": "2024-06-17T19:58:14.746298Z",
          "shell.execute_reply": "2024-06-17T20:02:02.335545Z"
        },
        "trusted": true,
        "id": "rFCgdeY49RYR"
      },
      "execution_count": null,
      "outputs": []
    },
    {
      "cell_type": "markdown",
      "source": [
        "* Q199. How interested would you say you are in politics?\n",
        "* Q200. When you get together with your friends, would you say you discuss political matters frequently, occasionally or never?\n",
        "* Q206. (Internet) please indicate whether you use it to obtain information daily, weekly, monthly, less than monthly or never\n",
        "* Q208. (Talk with friends or colleagues), People learn what is going on in this country and the world from various sources.\n",
        "* Q222. (National level) When elections take place, do you vote always, usually or never? Please tell me separately for each of the following levels\n",
        "* Q227. (Voters are bribed), In your view, how often do the following things occur in this country’s elections?"
      ],
      "metadata": {
        "id": "J7ggpFD89RYR"
      }
    },
    {
      "cell_type": "code",
      "source": [
        "exp_list[0].model_profile(variable_splits_type=\"quantiles\").plot(\n",
        "    [exp.model_profile(variable_splits_type=\"quantiles\") for exp in exp_list[1:]],\n",
        "    variables =['Q199_Political_Interest_Participation',\n",
        "                'Q200_Political_Interest_Participation',\n",
        "                'Q206_Political_Interest_Participation',\n",
        "                'Q222_Political_Interest_Participation',\n",
        "                'Q208_Political_Interest_Participation',\n",
        "                'Q227_Political_Interest_Participation'],\n",
        "    title=\"Partial Dependence\"\n",
        ")"
      ],
      "metadata": {
        "execution": {
          "iopub.status.busy": "2024-06-17T17:45:16.995231Z",
          "iopub.execute_input": "2024-06-17T17:45:16.996182Z",
          "iopub.status.idle": "2024-06-17T17:49:06.33567Z",
          "shell.execute_reply.started": "2024-06-17T17:45:16.996143Z",
          "shell.execute_reply": "2024-06-17T17:49:06.334695Z"
        },
        "trusted": true,
        "id": "udFaWsyr9RYR"
      },
      "execution_count": null,
      "outputs": []
    },
    {
      "cell_type": "markdown",
      "source": [
        "* Q4-Politics: For each of the following, indicate how important it is in your life.\n",
        "* Q41 Work should always come first, even if it means less spare time\n",
        "* Q148 To what degree are you worried about the following situations?"
      ],
      "metadata": {
        "id": "x-a6MRNd9RYR"
      }
    },
    {
      "cell_type": "code",
      "source": [
        "exp_list[0].model_profile(variable_splits_type=\"quantiles\").plot(\n",
        "    [exp.model_profile(variable_splits_type=\"quantiles\") for exp in exp_list[1:]],\n",
        "    variables =['Q4_Social_Values_Norms_Stereotypes',\n",
        "                'Q41_Social_Values_Norms_Stereotypes',\n",
        "                'Q148_Perception_Security'],\n",
        "    title=\"Partial Dependence\"\n",
        ")"
      ],
      "metadata": {
        "execution": {
          "iopub.status.busy": "2024-06-17T18:19:11.812811Z",
          "iopub.execute_input": "2024-06-17T18:19:11.813211Z",
          "iopub.status.idle": "2024-06-17T18:22:56.655998Z",
          "shell.execute_reply.started": "2024-06-17T18:19:11.81318Z",
          "shell.execute_reply": "2024-06-17T18:22:56.654993Z"
        },
        "trusted": true,
        "id": "JDUtgI_T9RYR"
      },
      "execution_count": null,
      "outputs": []
    },
    {
      "cell_type": "markdown",
      "source": [
        "* Q98 Political party: Now I am going to read off a list of voluntary organizations. For each organization, could you tell me whether you are an active member, an inactive member or not a member of that type of organization?"
      ],
      "metadata": {
        "id": "_ImClYE99RYS"
      }
    },
    {
      "cell_type": "code",
      "source": [
        "\n",
        "exp_list[0].model_profile(variable_splits_type=\"quantiles\", variable_type= 'categorical').plot(\n",
        "    [exp.model_profile(variable_splits_type=\"quantiles\", variable_type= 'categorical') for exp in exp_list[1:]],\n",
        "    variables =['Q98R_SocialCapital_Trust_Orga_Member'],\n",
        "    title=\"Partial Dependence\"\n",
        ")"
      ],
      "metadata": {
        "execution": {
          "iopub.status.busy": "2024-06-17T18:35:27.835803Z",
          "iopub.execute_input": "2024-06-17T18:35:27.836218Z",
          "iopub.status.idle": "2024-06-17T18:38:28.637151Z",
          "shell.execute_reply.started": "2024-06-17T18:35:27.836187Z",
          "shell.execute_reply": "2024-06-17T18:38:28.636195Z"
        },
        "trusted": true,
        "id": "SjZyB-CR9RYS"
      },
      "execution_count": null,
      "outputs": []
    }
  ]
}